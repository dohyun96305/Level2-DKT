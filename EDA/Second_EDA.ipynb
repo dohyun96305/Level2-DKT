{
 "cells": [
  {
   "cell_type": "code",
   "execution_count": 1,
   "metadata": {},
   "outputs": [],
   "source": [
    "import pandas as pd\n",
    "import numpy as np\n",
    "import matplotlib.pyplot as plt\n",
    "\n",
    "%matplotlib inline\n",
    "import seaborn as sns\n",
    "\n",
    "import warnings\n",
    "\n",
    "warnings.filterwarnings(action=\"ignore\")"
   ]
  },
  {
   "cell_type": "code",
   "execution_count": 2,
   "metadata": {},
   "outputs": [],
   "source": [
    "def mean(s):\n",
    "    return np.sum(s) / len(s)"
   ]
  },
  {
   "cell_type": "code",
   "execution_count": 3,
   "metadata": {},
   "outputs": [],
   "source": [
    "def mean1(s) : \n",
    "    return np.sum(s[ : -1]) / (len(s)-1)"
   ]
  },
  {
   "cell_type": "code",
   "execution_count": 4,
   "metadata": {},
   "outputs": [],
   "source": [
    "def shift_num(df, int1) : \n",
    "    df[f'user_correct_{-1 * int1}'] = df.groupby('userID')['answerCode'].shift(int1).fillna(0).apply(lambda x : 0 if x == -1 else x)\n",
    "    return df"
   ]
  },
  {
   "cell_type": "code",
   "execution_count": 5,
   "metadata": {},
   "outputs": [],
   "source": [
    "def beforecorrect_tag(df, str1) : \n",
    "    df[f'user_{str1}_beforecount'] = df.groupby([\"userID\", str1])[\"answerCode\"].cumcount() # 문제를 풀기 전 맞은 문항의 누적 개수\n",
    "    df[f\"user_{str1}_beforecorrect\"] = (df.groupby([\"userID\", str1])[\"answerCode\"].transform(lambda x: x.cumsum().shift(1)).fillna(0)) # 문제를 풀기 전 맞은 문항의 누적 합\n",
    "    df[f\"user_{str1}_beforeanswerrate\"] = (df[f\"user_{str1}_beforecorrect\"] / df[f'user_{str1}_beforecount']).fillna(0.0) # 문제를 풀기 전 누적 정답률\n",
    "\n",
    "    return df"
   ]
  },
  {
   "cell_type": "code",
   "execution_count": 6,
   "metadata": {},
   "outputs": [],
   "source": [
    "def groupby_answer(df, str1) :  \n",
    "    df_groupby_answer = df[df['answerCode'] != -1].groupby([str1]).agg({\n",
    "        str1 : 'count',\n",
    "        'answerCode' : mean\n",
    "    })\n",
    "\n",
    "    df_groupby_answer.columns = [f'{str1}_count', f'{str1}_answer']\n",
    "    df = pd.merge(df, df_groupby_answer, on=[str1], how='left')\n",
    "\n",
    "    return df"
   ]
  },
  {
   "cell_type": "code",
   "execution_count": 7,
   "metadata": {},
   "outputs": [],
   "source": [
    "def user_groupby_answer(df, str1) : \n",
    "    df_groupby_answer = df[df['answerCode'] != -1].groupby(['userID', str1]).agg({\n",
    "        str1 : 'count',\n",
    "        'answerCode' : mean\n",
    "    })\n",
    "\n",
    "    df_groupby_answer.columns = [f'user_{str1}_count', f'user_{str1}_answer']\n",
    "    df = pd.merge(df, df_groupby_answer, on=['userID', str1], how='left')\n",
    "    return df"
   ]
  },
  {
   "cell_type": "code",
   "execution_count": 8,
   "metadata": {},
   "outputs": [],
   "source": [
    "train = pd.read_csv('/data/ephemeral/data/train_data.csv')\n",
    "test = pd.read_csv('/data/ephemeral/data/test_data.csv')\n",
    "\n",
    "df = pd.concat([train, test])\n",
    "df = df.reset_index(drop = True)\n",
    "\n",
    "df[\"Timestamp\"] = pd.to_datetime(df[\"Timestamp\"])\n",
    "\n",
    "df = df.sort_values(by=['userID', 'Timestamp']).reset_index(drop=True)"
   ]
  },
  {
   "cell_type": "code",
   "execution_count": 9,
   "metadata": {},
   "outputs": [],
   "source": [
    "# 정답률에 유의미한 차이가 있는 month, weekday, hour에 대해 feature 추가 \n",
    "df['month'] = df['Timestamp'].dt.month # 1~12 OX (11, 12에서 차이가 큼)\n",
    "df['day'] = df['Timestamp'].dt.day # X \n",
    "df['weekday'] = df['Timestamp'].dt.weekday # 0~6 OX (토 ,일은 count가 특히 적음)\n",
    "df['hour'] = df['Timestamp'].dt.hour # 0~23 O\n",
    "df['min'] = df['Timestamp'].dt.minute # X\n",
    "\n",
    "# assessmentItemID와 testId에 대한 대분류 feature 추가\n",
    "df['first3'] = df['assessmentItemID'].apply(lambda x : x[2]).astype(int) # 010 ~ 090 O\n",
    "df['mid3'] = df['assessmentItemID'].apply(lambda x : x[4:7]).astype(int) # 001~198 OX\n",
    "df['last3'] = df['assessmentItemID'].apply(lambda x : x[-3:]).astype(int) # 문항 번호 X"
   ]
  },
  {
   "cell_type": "markdown",
   "metadata": {},
   "source": [
    "Time 및 Sequence"
   ]
  },
  {
   "cell_type": "code",
   "execution_count": 10,
   "metadata": {},
   "outputs": [],
   "source": [
    "df[\"user_beforecorrect\"] = (df.groupby(\"userID\")[\"answerCode\"].transform(lambda x: x.cumsum().shift(1)).fillna(0.0)) # 문제를 풀기 전 맞은 문항의 누적 합\n",
    "df[\"user_beforecount\"] = df.groupby(\"userID\")[\"answerCode\"].cumcount() # 문제를 풀기 전 문제를 푼 누적합\n",
    "df[\"user_beforeanswerrate\"] = (df['user_beforecorrect'] / df['user_beforecount']).fillna(0.0) # 문제를 풀기 전 누적 정답률"
   ]
  },
  {
   "cell_type": "code",
   "execution_count": 11,
   "metadata": {},
   "outputs": [],
   "source": [
    "# 시험지 내 문제를 푸는데 걸린 시간\n",
    "\n",
    "diff = df.loc[:, ['userID', 'Timestamp']].groupby('userID').diff().fillna(pd.Timedelta(seconds=0))\n",
    "diff = diff.fillna(pd.Timedelta(seconds=0))\n",
    "diff = diff['Timestamp'].apply(lambda x: x.total_seconds())\n",
    "\n",
    "df['elapsed'] = diff.shift(-1)\n",
    "\n",
    "user_test_groupby_answer = df.groupby(['userID', 'testId']).agg({\n",
    "    'elapsed' : mean1\n",
    "})\n",
    "\n",
    "user_test_groupby_answer.columns = ['test_elapsed_mean']\n",
    "df = pd.merge(df, user_test_groupby_answer, on=['userID', 'testId'], how='left')\n",
    "    \n",
    "df.loc[df.groupby(['userID', 'testId']).tail(1).index, 'elapsed'] = df['test_elapsed_mean']\n",
    "df = df.drop(['test_elapsed_mean'], axis = 1)"
   ]
  },
  {
   "cell_type": "code",
   "execution_count": 12,
   "metadata": {},
   "outputs": [],
   "source": [
    "for i in range(-2, 3) : \n",
    "    if i == 0 : \n",
    "        pass\n",
    "    else : \n",
    "        df = shift_num(df, i)"
   ]
  },
  {
   "cell_type": "code",
   "execution_count": 13,
   "metadata": {},
   "outputs": [],
   "source": [
    "df = beforecorrect_tag(df, 'first3')\n",
    "df = beforecorrect_tag(df, 'KnowledgeTag')"
   ]
  },
  {
   "cell_type": "code",
   "execution_count": 14,
   "metadata": {},
   "outputs": [],
   "source": [
    "df['rolling3_time'] = df.groupby(['userID'])['elapsed'].rolling(3).mean().fillna(0).values\n",
    "df.loc[df.groupby(['userID']).head(1).index, 'rolling3_time'] = df.loc[df.groupby(['userID']).head(1).index, 'elapsed']\n",
    "\n",
    "for group, group_df in df.groupby('userID'):\n",
    "    first_two_elapsed_mean = group_df['elapsed'].head(2).mean()\n",
    "    df.loc[group_df.index[1], 'rolling3_time'] = first_two_elapsed_mean"
   ]
  },
  {
   "cell_type": "markdown",
   "metadata": {},
   "source": [
    "User-AssessmentItemID 정답률 => first3, mid3, TestID 기준"
   ]
  },
  {
   "cell_type": "code",
   "execution_count": 15,
   "metadata": {},
   "outputs": [
    {
     "data": {
      "text/html": [
       "<div>\n",
       "<style scoped>\n",
       "    .dataframe tbody tr th:only-of-type {\n",
       "        vertical-align: middle;\n",
       "    }\n",
       "\n",
       "    .dataframe tbody tr th {\n",
       "        vertical-align: top;\n",
       "    }\n",
       "\n",
       "    .dataframe thead th {\n",
       "        text-align: right;\n",
       "    }\n",
       "</style>\n",
       "<table border=\"1\" class=\"dataframe\">\n",
       "  <thead>\n",
       "    <tr style=\"text-align: right;\">\n",
       "      <th></th>\n",
       "      <th></th>\n",
       "      <th>first3</th>\n",
       "      <th>answerCode</th>\n",
       "    </tr>\n",
       "    <tr>\n",
       "      <th>userID</th>\n",
       "      <th>first3</th>\n",
       "      <th></th>\n",
       "      <th></th>\n",
       "    </tr>\n",
       "  </thead>\n",
       "  <tbody>\n",
       "    <tr>\n",
       "      <th rowspan=\"3\" valign=\"top\">0</th>\n",
       "      <th>2</th>\n",
       "      <td>36</td>\n",
       "      <td>0.722222</td>\n",
       "    </tr>\n",
       "    <tr>\n",
       "      <th>6</th>\n",
       "      <td>346</td>\n",
       "      <td>0.791908</td>\n",
       "    </tr>\n",
       "    <tr>\n",
       "      <th>8</th>\n",
       "      <td>363</td>\n",
       "      <td>0.468320</td>\n",
       "    </tr>\n",
       "    <tr>\n",
       "      <th rowspan=\"2\" valign=\"top\">1</th>\n",
       "      <th>4</th>\n",
       "      <td>581</td>\n",
       "      <td>0.822719</td>\n",
       "    </tr>\n",
       "    <tr>\n",
       "      <th>9</th>\n",
       "      <td>352</td>\n",
       "      <td>0.903409</td>\n",
       "    </tr>\n",
       "    <tr>\n",
       "      <th>...</th>\n",
       "      <th>...</th>\n",
       "      <td>...</td>\n",
       "      <td>...</td>\n",
       "    </tr>\n",
       "    <tr>\n",
       "      <th>7439</th>\n",
       "      <th>4</th>\n",
       "      <td>16</td>\n",
       "      <td>0.625000</td>\n",
       "    </tr>\n",
       "    <tr>\n",
       "      <th rowspan=\"2\" valign=\"top\">7440</th>\n",
       "      <th>3</th>\n",
       "      <td>10</td>\n",
       "      <td>0.400000</td>\n",
       "    </tr>\n",
       "    <tr>\n",
       "      <th>5</th>\n",
       "      <td>5</td>\n",
       "      <td>0.400000</td>\n",
       "    </tr>\n",
       "    <tr>\n",
       "      <th rowspan=\"2\" valign=\"top\">7441</th>\n",
       "      <th>3</th>\n",
       "      <td>5</td>\n",
       "      <td>0.200000</td>\n",
       "    </tr>\n",
       "    <tr>\n",
       "      <th>4</th>\n",
       "      <td>4</td>\n",
       "      <td>1.000000</td>\n",
       "    </tr>\n",
       "  </tbody>\n",
       "</table>\n",
       "<p>19739 rows × 2 columns</p>\n",
       "</div>"
      ],
      "text/plain": [
       "               first3  answerCode\n",
       "userID first3                    \n",
       "0      2           36    0.722222\n",
       "       6          346    0.791908\n",
       "       8          363    0.468320\n",
       "1      4          581    0.822719\n",
       "       9          352    0.903409\n",
       "...               ...         ...\n",
       "7439   4           16    0.625000\n",
       "7440   3           10    0.400000\n",
       "       5            5    0.400000\n",
       "7441   3            5    0.200000\n",
       "       4            4    1.000000\n",
       "\n",
       "[19739 rows x 2 columns]"
      ]
     },
     "execution_count": 15,
     "metadata": {},
     "output_type": "execute_result"
    }
   ],
   "source": [
    "user_first3_groupby = df.groupby(['userID', \"first3\"]).agg(\n",
    "    {\n",
    "        \"first3\": \"count\",\n",
    "        \"answerCode\": mean,\n",
    "    }\n",
    ")\n",
    "\n",
    "user_first3_groupby\n"
   ]
  },
  {
   "cell_type": "code",
   "execution_count": 16,
   "metadata": {},
   "outputs": [
    {
     "data": {
      "text/plain": [
       "array([[<Axes: title={'center': 'first3'}>,\n",
       "        <Axes: title={'center': 'answerCode'}>]], dtype=object)"
      ]
     },
     "execution_count": 16,
     "metadata": {},
     "output_type": "execute_result"
    },
    {
     "data": {
      "image/png": "[encoded data removed]",
      "text/plain": [
       "<Figure size 640x480 with 2 Axes>"
      ]
     },
     "metadata": {},
     "output_type": "display_data"
    }
   ],
   "source": [
    "user_first3_groupby.hist()"
   ]
  },
  {
   "cell_type": "code",
   "execution_count": 17,
   "metadata": {},
   "outputs": [
    {
     "data": {
      "text/html": [
       "<div>\n",
       "<style scoped>\n",
       "    .dataframe tbody tr th:only-of-type {\n",
       "        vertical-align: middle;\n",
       "    }\n",
       "\n",
       "    .dataframe tbody tr th {\n",
       "        vertical-align: top;\n",
       "    }\n",
       "\n",
       "    .dataframe thead th {\n",
       "        text-align: right;\n",
       "    }\n",
       "</style>\n",
       "<table border=\"1\" class=\"dataframe\">\n",
       "  <thead>\n",
       "    <tr style=\"text-align: right;\">\n",
       "      <th></th>\n",
       "      <th></th>\n",
       "      <th>mid3</th>\n",
       "      <th>answerCode</th>\n",
       "    </tr>\n",
       "    <tr>\n",
       "      <th>userID</th>\n",
       "      <th>mid3</th>\n",
       "      <th></th>\n",
       "      <th></th>\n",
       "    </tr>\n",
       "  </thead>\n",
       "  <tbody>\n",
       "    <tr>\n",
       "      <th rowspan=\"5\" valign=\"top\">0</th>\n",
       "      <th>1</th>\n",
       "      <td>6</td>\n",
       "      <td>1.000000</td>\n",
       "    </tr>\n",
       "    <tr>\n",
       "      <th>2</th>\n",
       "      <td>6</td>\n",
       "      <td>0.833333</td>\n",
       "    </tr>\n",
       "    <tr>\n",
       "      <th>3</th>\n",
       "      <td>7</td>\n",
       "      <td>0.857143</td>\n",
       "    </tr>\n",
       "    <tr>\n",
       "      <th>4</th>\n",
       "      <td>8</td>\n",
       "      <td>0.500000</td>\n",
       "    </tr>\n",
       "    <tr>\n",
       "      <th>5</th>\n",
       "      <td>7</td>\n",
       "      <td>0.857143</td>\n",
       "    </tr>\n",
       "    <tr>\n",
       "      <th>...</th>\n",
       "      <th>...</th>\n",
       "      <td>...</td>\n",
       "      <td>...</td>\n",
       "    </tr>\n",
       "    <tr>\n",
       "      <th rowspan=\"3\" valign=\"top\">7440</th>\n",
       "      <th>96</th>\n",
       "      <td>5</td>\n",
       "      <td>0.400000</td>\n",
       "    </tr>\n",
       "    <tr>\n",
       "      <th>136</th>\n",
       "      <td>5</td>\n",
       "      <td>0.600000</td>\n",
       "    </tr>\n",
       "    <tr>\n",
       "      <th>197</th>\n",
       "      <td>5</td>\n",
       "      <td>0.200000</td>\n",
       "    </tr>\n",
       "    <tr>\n",
       "      <th rowspan=\"2\" valign=\"top\">7441</th>\n",
       "      <th>71</th>\n",
       "      <td>5</td>\n",
       "      <td>0.200000</td>\n",
       "    </tr>\n",
       "    <tr>\n",
       "      <th>165</th>\n",
       "      <td>4</td>\n",
       "      <td>1.000000</td>\n",
       "    </tr>\n",
       "  </tbody>\n",
       "</table>\n",
       "<p>351069 rows × 2 columns</p>\n",
       "</div>"
      ],
      "text/plain": [
       "             mid3  answerCode\n",
       "userID mid3                  \n",
       "0      1        6    1.000000\n",
       "       2        6    0.833333\n",
       "       3        7    0.857143\n",
       "       4        8    0.500000\n",
       "       5        7    0.857143\n",
       "...           ...         ...\n",
       "7440   96       5    0.400000\n",
       "       136      5    0.600000\n",
       "       197      5    0.200000\n",
       "7441   71       5    0.200000\n",
       "       165      4    1.000000\n",
       "\n",
       "[351069 rows x 2 columns]"
      ]
     },
     "execution_count": 17,
     "metadata": {},
     "output_type": "execute_result"
    }
   ],
   "source": [
    "user_mid3_groupby = df.groupby(['userID', \"mid3\"]).agg(\n",
    "    {\n",
    "        \"mid3\": \"count\",\n",
    "        \"answerCode\": mean,\n",
    "    }\n",
    ")\n",
    "\n",
    "user_mid3_groupby\n"
   ]
  },
  {
   "cell_type": "code",
   "execution_count": 18,
   "metadata": {},
   "outputs": [
    {
     "data": {
      "text/plain": [
       "array([[<Axes: title={'center': 'mid3'}>,\n",
       "        <Axes: title={'center': 'answerCode'}>]], dtype=object)"
      ]
     },
     "execution_count": 18,
     "metadata": {},
     "output_type": "execute_result"
    },
    {
     "data": {
      "image/png": "[encoded data removed]",
      "text/plain": [
       "<Figure size 640x480 with 2 Axes>"
      ]
     },
     "metadata": {},
     "output_type": "display_data"
    }
   ],
   "source": [
    "user_mid3_groupby.hist()"
   ]
  },
  {
   "cell_type": "code",
   "execution_count": 19,
   "metadata": {},
   "outputs": [
    {
     "data": {
      "text/html": [
       "<div>\n",
       "<style scoped>\n",
       "    .dataframe tbody tr th:only-of-type {\n",
       "        vertical-align: middle;\n",
       "    }\n",
       "\n",
       "    .dataframe tbody tr th {\n",
       "        vertical-align: top;\n",
       "    }\n",
       "\n",
       "    .dataframe thead th {\n",
       "        text-align: right;\n",
       "    }\n",
       "</style>\n",
       "<table border=\"1\" class=\"dataframe\">\n",
       "  <thead>\n",
       "    <tr style=\"text-align: right;\">\n",
       "      <th></th>\n",
       "      <th></th>\n",
       "      <th>testId</th>\n",
       "      <th>answerCode</th>\n",
       "    </tr>\n",
       "    <tr>\n",
       "      <th>userID</th>\n",
       "      <th>testId</th>\n",
       "      <th></th>\n",
       "      <th></th>\n",
       "    </tr>\n",
       "  </thead>\n",
       "  <tbody>\n",
       "    <tr>\n",
       "      <th rowspan=\"5\" valign=\"top\">0</th>\n",
       "      <th>A020000172</th>\n",
       "      <td>6</td>\n",
       "      <td>0.666667</td>\n",
       "    </tr>\n",
       "    <tr>\n",
       "      <th>A020000174</th>\n",
       "      <td>5</td>\n",
       "      <td>0.800000</td>\n",
       "    </tr>\n",
       "    <tr>\n",
       "      <th>A020000181</th>\n",
       "      <td>6</td>\n",
       "      <td>0.500000</td>\n",
       "    </tr>\n",
       "    <tr>\n",
       "      <th>A020000182</th>\n",
       "      <td>5</td>\n",
       "      <td>1.000000</td>\n",
       "    </tr>\n",
       "    <tr>\n",
       "      <th>A020000183</th>\n",
       "      <td>7</td>\n",
       "      <td>1.000000</td>\n",
       "    </tr>\n",
       "    <tr>\n",
       "      <th>...</th>\n",
       "      <th>...</th>\n",
       "      <td>...</td>\n",
       "      <td>...</td>\n",
       "    </tr>\n",
       "    <tr>\n",
       "      <th rowspan=\"3\" valign=\"top\">7440</th>\n",
       "      <th>A030000136</th>\n",
       "      <td>5</td>\n",
       "      <td>0.600000</td>\n",
       "    </tr>\n",
       "    <tr>\n",
       "      <th>A030000197</th>\n",
       "      <td>5</td>\n",
       "      <td>0.200000</td>\n",
       "    </tr>\n",
       "    <tr>\n",
       "      <th>A050000096</th>\n",
       "      <td>5</td>\n",
       "      <td>0.400000</td>\n",
       "    </tr>\n",
       "    <tr>\n",
       "      <th rowspan=\"2\" valign=\"top\">7441</th>\n",
       "      <th>A030000071</th>\n",
       "      <td>5</td>\n",
       "      <td>0.200000</td>\n",
       "    </tr>\n",
       "    <tr>\n",
       "      <th>A040000165</th>\n",
       "      <td>4</td>\n",
       "      <td>1.000000</td>\n",
       "    </tr>\n",
       "  </tbody>\n",
       "</table>\n",
       "<p>407189 rows × 2 columns</p>\n",
       "</div>"
      ],
      "text/plain": [
       "                   testId  answerCode\n",
       "userID testId                        \n",
       "0      A020000172       6    0.666667\n",
       "       A020000174       5    0.800000\n",
       "       A020000181       6    0.500000\n",
       "       A020000182       5    1.000000\n",
       "       A020000183       7    1.000000\n",
       "...                   ...         ...\n",
       "7440   A030000136       5    0.600000\n",
       "       A030000197       5    0.200000\n",
       "       A050000096       5    0.400000\n",
       "7441   A030000071       5    0.200000\n",
       "       A040000165       4    1.000000\n",
       "\n",
       "[407189 rows x 2 columns]"
      ]
     },
     "execution_count": 19,
     "metadata": {},
     "output_type": "execute_result"
    }
   ],
   "source": [
    "user_test_groupby = df.groupby(['userID', \"testId\"]).agg(\n",
    "    {\n",
    "        \"testId\": \"count\",\n",
    "        \"answerCode\": mean,\n",
    "    }\n",
    ")\n",
    "\n",
    "user_test_groupby\n"
   ]
  },
  {
   "cell_type": "code",
   "execution_count": 20,
   "metadata": {},
   "outputs": [
    {
     "data": {
      "text/plain": [
       "array([[<Axes: title={'center': 'testId'}>,\n",
       "        <Axes: title={'center': 'answerCode'}>]], dtype=object)"
      ]
     },
     "execution_count": 20,
     "metadata": {},
     "output_type": "execute_result"
    },
    {
     "data": {
      "image/png": "[encoded data removed]",
      "text/plain": [
       "<Figure size 640x480 with 2 Axes>"
      ]
     },
     "metadata": {},
     "output_type": "display_data"
    }
   ],
   "source": [
    "user_test_groupby.hist()"
   ]
  }
 ],
 "metadata": {
  "kernelspec": {
   "display_name": "dkt",
   "language": "python",
   "name": "python3"
  },
  "language_info": {
   "codemirror_mode": {
    "name": "ipython",
    "version": 3
   },
   "file_extension": ".py",
   "mimetype": "text/x-python",
   "name": "python",
   "nbconvert_exporter": "python",
   "pygments_lexer": "ipython3",
   "version": "3.10.13"
  }
 },
 "nbformat": 4,
 "nbformat_minor": 2
}
